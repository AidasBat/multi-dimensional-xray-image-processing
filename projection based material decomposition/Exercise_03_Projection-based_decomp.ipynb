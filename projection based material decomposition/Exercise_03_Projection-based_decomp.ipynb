{
 "cells": [
  {
   "cell_type": "markdown",
   "metadata": {},
   "source": [
    "**Quantitative X-Ray Imaging: Tutorial 02**   \n",
    "*Julia Herzen, Franziska Hinterdobler, Sara Savatović, Sami Wirtensohn*   \n",
    "*03.05.2024*\n",
    "\n",
    "# Projection-based approaches to material decomposition\n",
    "\n",
    "In the lecture, you have seen different approaches to material decomposition in the projection-space. In the first part of this exercise, you will get the chance to try three of them for yourself. The second part concerns the calibration-based dual-energy material decomposition and invites you to think about further aspects. \n",
    "\n"
   ]
  },
  {
   "cell_type": "code",
   "execution_count": 1,
   "metadata": {
    "ExecuteTime": {
     "end_time": "2024-05-09T19:09:33.981321Z",
     "start_time": "2024-05-09T19:09:33.966098Z"
    }
   },
   "outputs": [],
   "source": [
    "import numpy as np\n",
    "import matplotlib\n",
    "from matplotlib import pyplot as plt\n",
    "import scipy.ndimage as ndi\n",
    "import xraylib\n",
    "\n",
    "\n",
    "\n",
    "# Set some global plotting properties\n",
    "matplotlib.rcParams['image.cmap'] = 'gray'\n",
    "matplotlib.rcParams['figure.figsize'] = (10,5)\n",
    "matplotlib.rcParams['figure.dpi'] = 100\n",
    "# choose matplotlib magic command\n",
    "# opens figures in separate interactive windows\n",
    "%matplotlib qt "
   ]
  },
  {
   "cell_type": "markdown",
   "metadata": {},
   "source": [
    "Last exercise, we calculated the attenuation directly from the refractive index in `xraylib`. This time, we will use the total attenuation coefficient $\\mu_{tot}$ stored in `xraylib`, as it contains contributions of the photo-effect, Compton and Rayleigh scattering. You can also find the information here: https://www.nist.gov/pml/x-ray-mass-attenuation-coefficients\n",
    "Note: As you can see in the function `get_attenuation_coefficient`, this implementation in xraylib actually returns the mass attenuation coefficient $\\mu/\\rho$ and the length scale is now cm."
   ]
  },
  {
   "cell_type": "code",
   "execution_count": 2,
   "metadata": {
    "ExecuteTime": {
     "end_time": "2024-05-09T19:05:35.813305Z",
     "start_time": "2024-05-09T19:05:35.782069Z"
    }
   },
   "outputs": [],
   "source": [
    "def get_n(name, E, density=None):\n",
    "    \"\"\"\n",
    "    Get compound refractive index values: beta, delta, mu.\n",
    "\n",
    "    Parameters\n",
    "    ----------\n",
    "    name : string\n",
    "        Compound chemical composition or compound name from the list\n",
    "        xraylib.GetCompoundDataNISTList().\n",
    "    E : array\n",
    "        Energy or list of energies in keV.\n",
    "    density : float, optional\n",
    "        Density of the compound in g/cm³. If the compound is from the\n",
    "        NISTList it is not required. Check compound specifications with \n",
    "        xraylib.GetCompoundDataNISTByName(name)\n",
    "\n",
    "    Returns\n",
    "    ----------\n",
    "    out : dictionary\n",
    "        Values in dictionary entries \"name\", beta\", \"delta\", \"mu\".\n",
    "    \"\"\"\n",
    "        \n",
    "    if density is None:\n",
    "        try:\n",
    "            density = xraylib.GetCompoundDataNISTByName(name)['density']\n",
    "        except:\n",
    "            print('Specify density, compound not in NIST database.')\n",
    "            return\n",
    "\n",
    "    def _n(name, E, density):\n",
    "        beta  = xraylib.Refractive_Index_Im(name, E+.0, density)\n",
    "        delta = 1 - xraylib.Refractive_Index_Re(name, E+.0, density)\n",
    "        lam = xraylib.KEV2ANGST * 1e-10 / E  # in m\n",
    "        mu = beta * 4 * np.pi / lam\n",
    "        return dict(name=name, beta=beta, delta=delta, mu=mu)\n",
    "\n",
    "    if np.ndim(E)==0:\n",
    "        E = [E]\n",
    "    compound = np.array([_n(name, e, density)['name'] for e in E]).squeeze()\n",
    "    beta = np.array([_n(name, e, density)['beta'] for e in E]).squeeze()\n",
    "    delta = np.array([_n(name, e, density)['delta'] for e in E]).squeeze()\n",
    "    mu = np.array([_n(name, e, density)['mu'] for e in E]).squeeze()\n",
    "    out = dict(name=compound, beta=beta, delta=delta, mu=mu)\n",
    "\n",
    "    return out\n",
    "\n",
    "def get_attenuation_coefficient(compound, density, energy):\n",
    "    energies = energy\n",
    "    mues = np.empty_like(energies)\n",
    "    for i, energy in enumerate(energies):\n",
    "        mues[i] = xraylib.CS_Total_CP(compound, energy) # cm^2/g\n",
    "    mue_rho = mues * density # 1/cm\n",
    "    return mue_rho\n",
    "\n",
    "def disc_mask(sh, ctr, R):\n",
    "    \"\"\"\n",
    "    Returns disc mask of radius R, centered in ctr, for an image of shape sh.\n",
    "    \"\"\"\n",
    "    i0, i1 = np.indices(sh, dtype=float) - np.array(ctr)[:, np.newaxis, np.newaxis]\n",
    "    r2 = (i0/R)**2 + (i1/R)**2\n",
    "    return (r2 <= 1.)\n",
    "\n",
    "def imsh(img, p=5, vmin=None, vmax=None):\n",
    "    \"\"\"\n",
    "    Function to show images with automatic windowing.\n",
    "    \"\"\"\n",
    "    if not vmin: vmin=np.percentile(img, p)\n",
    "    if not vmax: vmax=np.percentile(img, 100-p)\n",
    "    plt.imshow(img, vmin=vmin, vmax=vmax)\n",
    "\n",
    "def add_poisson_noise(img, I0=1):\n",
    "    img_norm = I0 * 1e5 * (img.copy() - img.min()) / (img.max() - img.min())\n",
    "    noisy = np.random.poisson(img_norm)\n",
    "    out = noisy / (I0 * 1e5)\n",
    "    return out"
   ]
  },
  {
   "cell_type": "markdown",
   "metadata": {},
   "source": [
    "These functions may be useful to you for finding appropriate materials and their data:"
   ]
  },
  {
   "cell_type": "code",
   "execution_count": 3,
   "metadata": {
    "ExecuteTime": {
     "end_time": "2024-05-09T19:05:37.369291Z",
     "start_time": "2024-05-09T19:05:37.339737Z"
    }
   },
   "outputs": [
    {
     "data": {
      "text/plain": [
       "{'name': 'Air, Dry (near sea level)',\n",
       " 'nElements': 4,\n",
       " 'density': 0.001205,\n",
       " 'Elements': (6, 7, 8, 18),\n",
       " 'massFractions': (0.000124, 0.755267, 0.231781, 0.012827)}"
      ]
     },
     "execution_count": 3,
     "metadata": {},
     "output_type": "execute_result"
    }
   ],
   "source": [
    "xraylib.GetCompoundDataNISTList()\n",
    "xraylib.GetCompoundDataNISTByName('Air, Dry (near sea level)')"
   ]
  },
  {
   "cell_type": "markdown",
   "metadata": {},
   "source": [
    "Here, we define our energy range and materials we want to use in our phantoms. Feel free to expand the list if you're interested in other materials."
   ]
  },
  {
   "cell_type": "code",
   "execution_count": 4,
   "metadata": {
    "ExecuteTime": {
     "end_time": "2024-05-09T19:05:39.338247Z",
     "start_time": "2024-05-09T19:05:39.324637Z"
    }
   },
   "outputs": [],
   "source": [
    "energies = np.arange(20., 130.,10) # in keV\n",
    "muscle = get_attenuation_coefficient('Muscle, Skeletal', 1.92, energy = energies) # in 1/cm!\n",
    "soft = get_attenuation_coefficient('Tissue, Soft (ICRP)', 0.92, energy = energies)\n",
    "water = get_attenuation_coefficient('Water, Liquid', 1.0, energy = energies )\n",
    "iodine = get_attenuation_coefficient('I', 4.93, energy = energies)\n",
    "contrast = 0.98 * water + 0.02*iodine\n",
    "bone = get_attenuation_coefficient('Bone, Compact (ICRU)', 1.92, energy=energies)\n",
    "lung = get_attenuation_coefficient('Lung (ICRP)', 1.05, energy=energies)"
   ]
  },
  {
   "cell_type": "markdown",
   "metadata": {},
   "source": [
    "### 1) Simple subtraction\n",
    "Use case: Digital subtraction angiography\n",
    "\n",
    "Digital subtraction angiography is a clinical technique to better visualize vessels, for example in the heart. Two images are taken, one before and one after introduction of a contrast agent. Subtracting the images nullifies the unchanged tissue in the difference image. We will build a simplified phantom of arteries in soft tissue to visualize this effect. usually, this is performed using a laboratory source with a polychromatic spectrum. For demonstration purposes, our spectrum will be monochromatic.\n",
    "\n",
    "Choose appropriate materials and energies for clinical imaging. We first build a slice and extend that to 3D, like in exercise 01."
   ]
  },
  {
   "cell_type": "code",
   "execution_count": 5,
   "metadata": {
    "ExecuteTime": {
     "end_time": "2024-05-09T19:05:41.004060Z",
     "start_time": "2024-05-09T19:05:40.831346Z"
    },
    "scrolled": true
   },
   "outputs": [],
   "source": [
    "E0 = 4 #index of energy in list -> 90keV\n",
    "sh = (400,400)\n",
    "phantom = np.ones(sh) * soft[E0]#np.zeros(sh)#\n",
    "mask_art1 = disc_mask(sh, (200,180),8)\n",
    "mask_art2 = disc_mask(sh, (80,80), 12)\n",
    "mask_art3 = disc_mask(sh, (300,180), 40)\n",
    "#mask_art4 = disc_mask(sh, (306, 380), 40)\n",
    "\n",
    "phantom[mask_art1] = water[E0]\n",
    "phantom[mask_art2] = water[E0]\n",
    "phantom[mask_art3] = bone[E0]\n",
    "\n",
    "plt.figure()\n",
    "plt.title(r'Native arteries in surrounding material')\n",
    "imsh(phantom, vmin=0.3, vmax=0.36)\n",
    "plt.text(160, 160, 'Artery 1', c='y')\n",
    "plt.text(60, 107, 'Artery 2', c='y')\n",
    "plt.text(135, 360, 'Artery 3', c='y')\n",
    "#plt.text(385, 306, 'Artery 4', c='y')\n",
    "plt.axis('off')\n",
    "cbar = plt.colorbar(pad=0.01)\n",
    "cbar.set_label('Mass attenuation coefficient [1/cm]')\n",
    "plt.show()"
   ]
  },
  {
   "cell_type": "markdown",
   "metadata": {},
   "source": [
    "Now, we forward project the phantom to get the detector image. Choose appropriate windowing parameters for the image. Use the Poisson noise function defined above to generate a second projection that includes noise."
   ]
  },
  {
   "cell_type": "code",
   "execution_count": 6,
   "metadata": {
    "ExecuteTime": {
     "end_time": "2024-05-09T19:30:27.696404Z",
     "start_time": "2024-05-09T19:30:24.658429Z"
    }
   },
   "outputs": [],
   "source": [
    "phantom_3d = np.stack(300*[phantom], axis=0)\n",
    "px_size = 10e-4 # in cm\n",
    "proj1 = np.exp(-(phantom_3d.sum(axis=1)*px_size))\n",
    "proj1_noise = add_poisson_noise(proj1, I0 = 0.6)\n",
    "\n",
    "plt.figure()\n",
    "plt.subplot(211)\n",
    "plt.title('Slice in the center of the volume')\n",
    "imsh(phantom_3d[:,200,:], vmin=0.3, vmax=0.36)\n",
    "plt.axis('off')\n",
    "cbar = plt.colorbar(pad=0.01)\n",
    "cbar.set_label('Mass att. coef. [1/cm]')\n",
    "plt.subplot(212)\n",
    "plt.title('Projection \\n Image recorded by the detector')\n",
    "imsh(proj1)#, vmin = 0.85, vmax = 0.9)\n",
    "cbar = plt.colorbar(pad=0.01)\n",
    "cbar.set_label(\"Transmission [I/$\\mathrm{I}_0$]\")\n",
    "plt.axis('off')\n",
    "plt.tight_layout()"
   ]
  },
  {
   "cell_type": "markdown",
   "metadata": {},
   "source": [
    "Now we introduce the contrast agent and forward project the second phantom as well. Remember to generate a noisy projection as well."
   ]
  },
  {
   "cell_type": "code",
   "execution_count": 7,
   "metadata": {
    "ExecuteTime": {
     "end_time": "2024-05-09T18:33:33.891181Z",
     "start_time": "2024-05-09T18:33:33.728900Z"
    },
    "scrolled": true
   },
   "outputs": [],
   "source": [
    "phantom2 = np.ones(sh) * soft[E0]#np.zeros(sh) #\n",
    "mask_art1 = disc_mask(sh, (200,180),8)\n",
    "mask_art2 = disc_mask(sh, (80,80), 12)\n",
    "mask_art3 = disc_mask(sh, (300,180), 40)\n",
    "#mask_art4 = disc_mask(sh, (306, 380), 40)\n",
    "\n",
    "phantom2[mask_art1] = contrast[E0]\n",
    "phantom2[mask_art2] = contrast[E0]\n",
    "phantom2[mask_art3] = bone[E0]\n",
    "\n",
    "plt.figure()\n",
    "plt.title(r'Contrast-filled arteries (iodine) in tissue (soft tissue)')\n",
    "imsh(phantom2, vmin=0.3, vmax=0.44)\n",
    "plt.text(160, 160, 'Artery 1', c='y')\n",
    "plt.text(60, 107, 'Artery 2', c='y')\n",
    "plt.text(135, 360, 'Artery 3', c='y')\n",
    "#plt.text(385, 306, 'Artery 4', c='y')\n",
    "plt.axis('off')\n",
    "cbar = plt.colorbar(pad=0.01)\n",
    "cbar.set_label('Linear attenuation coefficient [1/cm]')"
   ]
  },
  {
   "cell_type": "code",
   "execution_count": 8,
   "metadata": {
    "ExecuteTime": {
     "end_time": "2024-05-09T19:30:55.281459Z",
     "start_time": "2024-05-09T19:30:54.536017Z"
    }
   },
   "outputs": [],
   "source": [
    "phantom2_3d = np.stack(300*[phantom2], axis=0)\n",
    "proj2 = np.exp(-(phantom2_3d.sum(axis=1)*px_size))\n",
    "proj2_noise = add_poisson_noise(proj2, I0=0.6)\n",
    "\n",
    "plt.figure()\n",
    "plt.subplot(211)\n",
    "plt.title('Slice in the center of the volume')\n",
    "imsh(phantom2_3d[:,200,:], vmin=0.3, vmax=0.44)\n",
    "cbar = plt.colorbar(pad=0.01)\n",
    "cbar.set_label('Linear att. coef. [1/cm]')\n",
    "plt.axis('off')\n",
    "plt.subplot(212)\n",
    "plt.title('Projection \\n Image recorded by the detector')\n",
    "imsh(proj2)#, vmin=0.85, vmax=0.9)\n",
    "cbar = plt.colorbar(pad=0.01)\n",
    "cbar.set_label(\"Intensity [I/$\\mathrm{I}_0$]\")\n",
    "plt.axis('off')\n",
    "plt.tight_layout()\n"
   ]
  },
  {
   "cell_type": "markdown",
   "metadata": {},
   "source": [
    "Now subtract and look at the difference image. From the lecture, we know\n",
    "$DSA = \\log(I_{contrast}) - \\log(I_{native})$. \n",
    "\n",
    "Calculate a difference image using the noisy projections, as well. Do the images differ?"
   ]
  },
  {
   "cell_type": "code",
   "execution_count": 10,
   "metadata": {
    "ExecuteTime": {
     "end_time": "2024-05-09T20:05:05.059992Z",
     "start_time": "2024-05-09T20:05:04.740810Z"
    }
   },
   "outputs": [
    {
     "data": {
      "text/plain": [
       "(-0.5, 399.5, 299.5, -0.5)"
      ]
     },
     "execution_count": 10,
     "metadata": {},
     "output_type": "execute_result"
    }
   ],
   "source": [
    "proj1_noise = np.clip(proj1_noise,0.001, 1.1)\n",
    "proj2_noise = np.clip(proj2_noise,0.001, 1.1)\n",
    "diff = np.log(proj2) - np.log(proj1)\n",
    "diff_noise = np.log(proj2_noise) - np.log(proj1_noise)\n",
    "\n",
    "plt.figure()\n",
    "plt.title(r'Subtracted image')\n",
    "imsh(diff_noise)\n",
    "cbar = plt.colorbar(pad=0.01)\n",
    "cbar.set_label('Intensity difference')\n",
    "plt.axis('off')"
   ]
  },
  {
   "cell_type": "markdown",
   "metadata": {},
   "source": [
    "Question part:\n",
    "Simple subtraction:\n",
    "1) DSA usually uses a laboratory X-ray source. How does the polychromatic spectrum influence the method?\n",
    "2) Is DSA quantitative?\n",
    "3) What are limitations of the method?\n",
    "\n",
    "\n"
   ]
  },
  {
   "cell_type": "markdown",
   "metadata": {},
   "source": [
    "## Weighted subtraction:\n",
    "\n",
    "Now we will take a look at weighted subtraction. As you have seen in the lecture, it is a dual-energy approach. Take a look at the two tube spectra and calculate the mean energy and overlap for both.\n"
   ]
  },
  {
   "cell_type": "markdown",
   "metadata": {},
   "source": [
    "We will now create a phantom from the Shepp-Logan phantom. It is usually used as a head phantom, but we will fill it with values usually found in the thorax."
   ]
  },
  {
   "cell_type": "code",
   "execution_count": 11,
   "metadata": {
    "ExecuteTime": {
     "end_time": "2024-05-09T19:31:32.326215Z",
     "start_time": "2024-05-09T19:31:32.115942Z"
    }
   },
   "outputs": [],
   "source": [
    "# create phantom with bone, tissue and air components\n",
    "phantom_LE = np.load('shepp_logan.npy')\n",
    "phantom_HE = np.load('shepp_logan.npy')\n",
    "\n",
    "# use the known attenuation values to replace the original values in the modified Shepp-Logan phantom\n",
    "phantom_LE[phantom_LE == 1.0] = bone[np.where(energies == 60.)]\n",
    "phantom_LE[phantom_LE == 0.19999999] = soft[np.where(energies == 60.)]\n",
    "phantom_LE[phantom_LE == -1.4901161e-08] = bone[np.where(energies == 60.)]\n",
    "phantom_LE[phantom_LE == 0.0] = 0.0001\n",
    "\n",
    "phantom_HE[phantom_HE == 1.0] = bone[np.where(energies == 120.)]\n",
    "phantom_HE[phantom_HE == 0.19999999] = soft[np.where(energies == 120.)]\n",
    "phantom_HE[phantom_HE == -1.4901161e-08] = bone[np.where(energies == 120.)]\n",
    "phantom_HE[phantom_HE == 0.0] = 0.0001"
   ]
  },
  {
   "cell_type": "code",
   "execution_count": 12,
   "metadata": {
    "ExecuteTime": {
     "end_time": "2024-05-09T19:31:32.679550Z",
     "start_time": "2024-05-09T19:31:32.664595Z"
    }
   },
   "outputs": [
    {
     "data": {
      "text/plain": [
       "(200, 200, 200)"
      ]
     },
     "execution_count": 12,
     "metadata": {},
     "output_type": "execute_result"
    }
   ],
   "source": [
    "phantom_HE.shape"
   ]
  },
  {
   "cell_type": "code",
   "execution_count": 13,
   "metadata": {
    "ExecuteTime": {
     "end_time": "2024-05-09T19:31:45.178902Z",
     "start_time": "2024-05-09T19:31:44.862947Z"
    },
    "scrolled": true
   },
   "outputs": [],
   "source": [
    "plt.figure()# figsize=(14, 6))\n",
    "plt.subplot(121)\n",
    "plt.imshow(phantom_LE[100,:,:], vmin=0, vmax = 0.5)\n",
    "plt.title('Low energy phantom')\n",
    "plt.axis('off')\n",
    "cbar = plt.colorbar(pad = 0.03, fraction = 0.045)\n",
    "cbar.set_label('Linear attenuation coefficient [1/cm]')\n",
    "plt.tight_layout()\n",
    "plt.subplot(122)\n",
    "plt.imshow(phantom_HE[100,:,:], vmin=0, vmax = 0.5)\n",
    "plt.title('High energy phantom')\n",
    "cbar = plt.colorbar(pad = 0.03, fraction = 0.045)\n",
    "cbar.set_label('Linear attenuation coefficient [1/cm]')\n",
    "plt.axis('off')\n",
    "plt.tight_layout()"
   ]
  },
  {
   "cell_type": "markdown",
   "metadata": {},
   "source": [
    "Now again, we forwardproject and look at the resulting images. Create a second set of noisy projections:"
   ]
  },
  {
   "cell_type": "code",
   "execution_count": 15,
   "metadata": {
    "ExecuteTime": {
     "end_time": "2024-05-09T19:33:46.422922Z",
     "start_time": "2024-05-09T19:33:44.872606Z"
    }
   },
   "outputs": [],
   "source": [
    "px_size = 1e-02 #in cm\n",
    "proj_LE = np.exp(-phantom_LE.sum(axis=1)*px_size)\n",
    "LE_noise = add_poisson_noise(proj_LE, I0 = 0.8)\n",
    "LE_noise = np.clip(LE_noise, 0.001, 1.1)\n",
    "proj_HE = np.exp(-phantom_HE.sum(axis=1)*px_size)\n",
    "HE_noise = add_poisson_noise(proj_HE, I0 = 0.8)\n",
    "HE_noise = np.clip(HE_noise, 0.001, 1.1)\n",
    "vmin = 0.2\n",
    "vmax = 0.95 # choose max value for windowing larger than one to see the image borders\n",
    "\n",
    "plt.figure()\n",
    "plt.subplot(121)\n",
    "plt.imshow(LE_noise, vmin=vmin, vmax=vmax)\n",
    "plt.title('Low energy image')\n",
    "plt.axis('off')\n",
    "cbar = plt.colorbar(pad = 0.03, fraction = 0.045)\n",
    "cbar.set_label(\"Intensity [I/$\\mathrm{I}_0$]\")\n",
    "plt.subplot(122)\n",
    "plt.imshow(HE_noise, vmin=vmin, vmax=vmax)\n",
    "plt.title('High energy image')\n",
    "plt.axis('off')\n",
    "cbar = plt.colorbar(pad = 0.03, fraction = 0.045)\n",
    "cbar.set_label(\"Intensity [I/$\\mathrm{I}_0$]\")\n",
    "plt.tight_layout()"
   ]
  },
  {
   "cell_type": "markdown",
   "metadata": {},
   "source": [
    "now there are different ways to determine the weights for weighted subtraction. One is logarithmic weights (https://www.ncbi.nlm.nih.gov/pmc/articles/PMC7015793/  #S6title) or estimating from the energy dependence or simply trying out different weights. Try it once with the (optimum) weight described in section 2.1 in the article and then, in a second approach, try to find some optimal weights by trial and error. Our goal here is to completely null the bone signal."
   ]
  },
  {
   "cell_type": "code",
   "execution_count": 16,
   "metadata": {
    "ExecuteTime": {
     "end_time": "2024-05-09T19:46:21.084970Z",
     "start_time": "2024-05-09T19:46:15.167187Z"
    }
   },
   "outputs": [
    {
     "name": "stdout",
     "output_type": "stream",
     "text": [
      "0.5965854768594188\n"
     ]
    }
   ],
   "source": [
    "weight_opt = bone[np.where(energies == 120.)]/bone[np.where(energies == 60.)]\n",
    "diff = np.log(proj_HE) - weight_opt[0]*np.log(proj_LE)\n",
    "diff_noise = np.log(HE_noise) - weight_opt[0]*np.log(LE_noise)\n",
    "print(weight_opt[0])\n",
    "plt.figure()\n",
    "#plt.imshow(diff)\n",
    "plt.imshow(diff)\n",
    "cbar = plt.colorbar(pad = 0.03, fraction = 0.045)\n",
    "cbar.set_label('Weighted intensity difference')\n",
    "plt.title('Weighted subtraction with {0:.3f} '.format(weight_opt[0]))\n",
    "plt.axis('off')\n",
    "plt.tight_layout()"
   ]
  },
  {
   "cell_type": "code",
   "execution_count": 17,
   "metadata": {
    "ExecuteTime": {
     "end_time": "2024-05-09T19:47:15.792884Z",
     "start_time": "2024-05-09T19:47:15.773012Z"
    }
   },
   "outputs": [],
   "source": [
    "diff_img = []\n",
    "weight_test = np.arange(0.0,1,0.1)\n",
    "for weight in weight_test:\n",
    "    calc = np.log(proj_HE) - weight*np.log(proj_LE)\n",
    "    diff_img.append(calc)"
   ]
  },
  {
   "cell_type": "code",
   "execution_count": 21,
   "metadata": {
    "ExecuteTime": {
     "end_time": "2024-05-09T19:47:21.093217Z",
     "start_time": "2024-05-09T19:47:16.653972Z"
    }
   },
   "outputs": [],
   "source": [
    "i = 5\n",
    "plt.figure()\n",
    "plt.imshow(diff_img[i])\n",
    "cbar = plt.colorbar(pad = 0.03, fraction = 0.045)\n",
    "cbar.set_label('Weighted intensity difference')\n",
    "plt.title('Weighted subtraction with weight {}'.format(weight_test[i]))\n",
    "plt.axis('off')\n",
    "plt.tight_layout()"
   ]
  },
  {
   "cell_type": "markdown",
   "metadata": {},
   "source": [
    "## K-edge imaging"
   ]
  },
  {
   "cell_type": "code",
   "execution_count": 22,
   "metadata": {
    "ExecuteTime": {
     "end_time": "2024-05-09T19:40:00.456518Z",
     "start_time": "2024-05-09T19:40:00.249707Z"
    }
   },
   "outputs": [],
   "source": [
    "# for demonstration purposes use monochromatic source\n",
    "# choose energies around the K-edge of iodine\n",
    "k_energies = np.array([32.,34.])\n",
    "ksoft = get_attenuation_coefficient('Tissue, Soft (ICRP)', 0.92, energy = k_energies)\n",
    "kwater = get_attenuation_coefficient('Water, Liquid', 1.0, energy = k_energies )\n",
    "kiodine = get_attenuation_coefficient('I', 4.93, energy = k_energies)\n",
    "kbone = get_attenuation_coefficient('Bone, Compact (ICRU)', 1.92, energy=k_energies)\n",
    "kair = get_attenuation_coefficient('Air, Dry (near sea level)', 0.001205, energy=k_energies)\n",
    "kcontrast = 0.98 * kwater + 0.02*kiodine\n",
    "\n",
    "plt.figure()\n",
    "plt.plot(energies, soft, label = 'Soft tissue')\n",
    "plt.plot(energies, water, label = 'Water')\n",
    "plt.plot(energies,contrast, label = 'Iodine')\n",
    "plt.plot(energies,bone, label = 'Bone')\n",
    "plt.xlabel('Energy [keV]')\n",
    "plt.ylabel('Mass attenuation coefficient')\n",
    "plt.legend()\n",
    "plt.semilogy()\n",
    "plt.tight_layout()"
   ]
  },
  {
   "cell_type": "code",
   "execution_count": 23,
   "metadata": {
    "ExecuteTime": {
     "end_time": "2024-05-09T19:41:37.972698Z",
     "start_time": "2024-05-09T19:41:36.951401Z"
    }
   },
   "outputs": [
    {
     "data": {
      "text/plain": [
       "(-0.5, 399.5, 399.5, -0.5)"
      ]
     },
     "execution_count": 23,
     "metadata": {},
     "output_type": "execute_result"
    }
   ],
   "source": [
    "# build phantom with iodine in it\n",
    "# below kedge\n",
    "E0 = 0\n",
    "Kphantom_LE = np.ones(sh) * kair[E0]\n",
    "mask_art1 = disc_mask(sh, (200,200),25)\n",
    "mask_art2 = disc_mask(sh, (80,80), 12)\n",
    "mask_art3 = disc_mask(sh, (300,180), 40)\n",
    "#mask_art4 = disc_mask(sh, (306, 380), 40)\n",
    "\n",
    "Kphantom_LE[mask_art1] = kcontrast[E0]\n",
    "Kphantom_LE[mask_art2] = kwater[E0]\n",
    "Kphantom_LE[mask_art3] = kbone[E0]\n",
    "#stack to 3d\n",
    "Kphantom_LE = np.stack(300*[Kphantom_LE], axis=0)\n",
    "#above kedge\n",
    "#\n",
    "E1 = 1\n",
    "Kphantom_HE = np.ones(sh) * kair[E1]\n",
    "mask_art1 = disc_mask(sh, (200,200),25)\n",
    "mask_art2 = disc_mask(sh, (80,80), 12)\n",
    "mask_art3 = disc_mask(sh, (300,180), 40)\n",
    "#mask_art4 = disc_mask(sh, (306, 380), 40)\n",
    "\n",
    "Kphantom_HE[mask_art1] = kcontrast[E1]\n",
    "Kphantom_HE[mask_art2] = kwater[E1]\n",
    "Kphantom_HE[mask_art3] = kbone[E1]\n",
    "#stack to 3d\n",
    "Kphantom_HE = np.stack(300*[Kphantom_HE], axis=0)\n",
    "\n",
    "plt.figure()\n",
    "plt.subplot(121)\n",
    "plt.imshow(Kphantom_LE[100,:,:], vmax = 2.0)\n",
    "cbar = plt.colorbar(pad = 0.03, fraction = 0.045)\n",
    "cbar.set_label('Mass attenuation coefficient [1/cm]')\n",
    "plt.title('Low energy phantom')\n",
    "plt.axis('off')\n",
    "plt.subplot(122)\n",
    "plt.imshow(Kphantom_HE[100,:,:], vmax = 2.0)\n",
    "plt.title('High energy phantom')\n",
    "cbar = plt.colorbar(pad = 0.03, fraction = 0.045)\n",
    "cbar.set_label('Mass attenuation coefficient [1/cm]')\n",
    "plt.axis('off')"
   ]
  },
  {
   "cell_type": "code",
   "execution_count": 24,
   "metadata": {
    "ExecuteTime": {
     "end_time": "2024-05-09T19:45:07.032627Z",
     "start_time": "2024-05-09T19:45:06.435437Z"
    }
   },
   "outputs": [],
   "source": [
    "# forward project both phantoms\n",
    "px_size = 10e-04 # in cm\n",
    "Kproj_LE = np.exp(- Kphantom_LE.sum(axis=1)*px_size)\n",
    "Kproj_HE = np.exp(- Kphantom_HE.sum(axis=1)*px_size)\n",
    "k_LE_noise = add_poisson_noise(Kproj_LE, I0=0.7)\n",
    "k_HE_noise = add_poisson_noise(Kproj_HE, I0=0.7)\n",
    "\n",
    "vmin = 0.6\n",
    "vmax = 0.9\n",
    "\n",
    "plt.figure()\n",
    "plt.subplot(121)\n",
    "#plt.imshow(Kproj_LE, vmin = vmin, vmax = vmax)\n",
    "imsh(Kproj_LE)\n",
    "plt.title('Low energy image')\n",
    "plt.axis('off')\n",
    "cbar = plt.colorbar(pad = 0.03, fraction = 0.035)\n",
    "cbar.set_label(\"Intensity [I/$\\mathrm{I}_0$]\")\n",
    "plt.tight_layout()\n",
    "plt.subplot(122)\n",
    "#plt.imshow(Kproj_HE, vmin=vmin, vmax=vmax)\n",
    "imsh(Kproj_HE)\n",
    "plt.title('High energy image')\n",
    "plt.axis('off')\n",
    "cbar = plt.colorbar(pad = 0.03, fraction = 0.035)\n",
    "cbar.set_label(\"Intensity [I/$\\mathrm{I}_0$]\")\n",
    "plt.tight_layout()"
   ]
  },
  {
   "cell_type": "markdown",
   "metadata": {},
   "source": [
    "Now that we have built the phantom and produced the projections, we subtract. The general procedure is subtracting the logarithms of the intensities, as seen in the lecture:\n",
    "$$\n",
    "    KES = \\log(I_{HE}) - \\log(I_{LE})\n",
    "$$\n",
    "For getting rid of higher absorbing materials like bone, a weight factor has been proven useful. Assuming the majority of contribution is from the photoelectric effect, we can use its $E^{-3}$ dependence to calculate a weight factor:\n",
    "\n",
    "$$\n",
    "   KES = \\log(I_{HE}) - \\big(\\frac{E_{low}}{E_{high}}\\big)^3 \\log(I_{LE}) \n",
    "$$"
   ]
  },
  {
   "cell_type": "code",
   "execution_count": 26,
   "metadata": {
    "ExecuteTime": {
     "end_time": "2024-05-09T19:48:21.220567Z",
     "start_time": "2024-05-09T19:48:21.027579Z"
    }
   },
   "outputs": [
    {
     "name": "stdout",
     "output_type": "stream",
     "text": [
      "0.833706492977814\n"
     ]
    },
    {
     "data": {
      "text/plain": [
       "(-0.5, 399.5, 299.5, -0.5)"
      ]
     },
     "execution_count": 26,
     "metadata": {},
     "output_type": "execute_result"
    }
   ],
   "source": [
    "#do K-edge subtraction with weight factor \n",
    "k_weight = (k_energies[0]/k_energies[1])**3\n",
    "kdiff = np.log(Kproj_HE) - k_weight*np.log(Kproj_LE)\n",
    "k_HE_noise = np.clip(k_HE_noise, 0.001, 1.1)\n",
    "k_LE_noise = np.clip(k_LE_noise, 0.001, 1.1)\n",
    "kdiff_noise = np.log(k_HE_noise) - k_weight*np.log(k_LE_noise)\n",
    "\n",
    "print(k_weight)\n",
    "plt.figure()\n",
    "imsh(kdiff_noise)#, vmin=0.02, vmax=0.16)\n",
    "cbar = plt.colorbar(pad = 0.03, fraction = 0.045)\n",
    "cbar.set_label('Weighted intensity difference')\n",
    "plt.axis('off')"
   ]
  },
  {
   "cell_type": "markdown",
   "metadata": {},
   "source": [
    "##### Questions\n",
    "Compare the three methods you tried out, here are some guiding questions:\n",
    "1) How did the method work out? \n",
    "\n",
    "2) In what way is the method quantitative?\n",
    "\n",
    "3) What are the advantages of this method? How is it limited?\n",
    "\n",
    "4) How does it differ from the other methods?\n"
   ]
  },
  {
   "cell_type": "markdown",
   "metadata": {},
   "source": [
    "### Part 2: Calibration-based dual-energy material decomposition\n",
    "\n",
    "Q: Which material properties and physical principles does dual-energy material decomposition exploit?\n",
    "\n",
    "A: Energy dependence of attenuation coefficient (material-specific)\n",
    "\n",
    "Q: In which way is the method quantitative?\n",
    "\n",
    "A: Allows determining quantitative information like $Z_{\\text{eff}}$, contrast agent concentration, electron density\n",
    "\n",
    "Q: What additional considerations are necessary when using a polychromatic spectrum and not a monochromatic one?\n",
    "\n",
    "A: Due to the energy dependence of the attenuation coefficient, the effective attenuation coefficient becomes an integral.\n",
    "\n",
    "Q: Since the two-material approach has a reduced accuracy for higher $Z_{\\text{eff}}$, you decide to increase the amount of basis materials to six. What challenges might you encounter?\n",
    "\n",
    "A: Increases the calibration matrix to at least 6x6 --> very complicated experimentally and computationally expensive. \n",
    "\n",
    "Q: Why can't you use this material decomposition approach to determine the existence (yes/no) of one of your basis materials in the sample?\n",
    "\n",
    "A: All materials are shown as linear combination of the basis materials, e.g. for a iodine/water basis, iron would also be shown as behaving like xx fraction iodine and xx fraction water, although containing neither.\n",
    "\n",
    "Q: How could this method benefit in the clinical routine?\n",
    "\n",
    "A: Dosis planning in radiation therapy, virtual native images (less dose)\n",
    "\n",
    "Q: How does this method differ from the methods in Part 1? For ex. Weighted subtraction also produces a soft-tissue equivalent image, how is it different?\n",
    "\n",
    "A: Based on a physical model, reduces artifacts.\n"
   ]
  },
  {
   "cell_type": "code",
   "execution_count": null,
   "metadata": {},
   "outputs": [],
   "source": []
  }
 ],
 "metadata": {
  "kernelspec": {
   "display_name": "quant-kernel",
   "language": "python",
   "name": "quant-kernel"
  },
  "language_info": {
   "codemirror_mode": {
    "name": "ipython",
    "version": 3
   },
   "file_extension": ".py",
   "mimetype": "text/x-python",
   "name": "python",
   "nbconvert_exporter": "python",
   "pygments_lexer": "ipython3",
   "version": "3.11.9"
  }
 },
 "nbformat": 4,
 "nbformat_minor": 4
}
