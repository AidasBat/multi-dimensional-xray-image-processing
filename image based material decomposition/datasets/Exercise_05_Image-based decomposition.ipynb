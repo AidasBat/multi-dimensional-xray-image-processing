{
 "cells": [
  {
   "cell_type": "markdown",
   "id": "4d22d176",
   "metadata": {},
   "source": [
    "**Quantitative X-Ray Imaging: Tutorial 05**   \n",
    "*Julia Herzen, Franziska Hinterdobler, Sara Savatović, Sami Wirtensohn*   \n",
    "\n",
    "# Exercise 05: Image-based material decomposition"
   ]
  },
  {
   "cell_type": "markdown",
   "id": "a873a317",
   "metadata": {},
   "source": [
    "The last two weeks, we concentrated on material decomposition approaches based on projection images. The other approach is to perform the decomposition using the already reconstructed images which contain information about the local attenuation coefficient $\\mu$. The advantage is a less complicated decomposition approach based on the tabulated values for $\\mu$ without the need for calibration measurements. In this exercise, we will walk through such a decomposition. As reminder: For a sample containing two materials 1 and 2 in volume fractions of $n_1$ and $n_2$ the following expression for the total attenuation coefficient $\\mu_{tot}$ is valid\n",
    "\n",
    "$\n",
    "\\begin{pmatrix} \\mu_\\text{tot, HE}(E) \\\\ \\mu_\\text{tot, LE}(E)\\end{pmatrix} = \\begin{pmatrix} \\mu_\\text{1, HE}(E) & \\mu_\\text{2, HE}(E)\\\\ \\mu_\\text{1, LE}(E) & \\mu_\\text{2, LE}(E)\\end{pmatrix} \\cdot \\begin{pmatrix}n_1\\\\n_2\\end{pmatrix}\n",
    "$\n",
    "\n",
    "This is the linear system of equations we are trying to solve to arrive at the volume fractions. "
   ]
  },
  {
   "cell_type": "markdown",
   "id": "7b3c0e36",
   "metadata": {},
   "source": [
    "## Part 1: Thinking about the source spectrum / detected spectrum\n",
    "\n",
    "### Simulating the emitted spectrum\n",
    "When using laboratory sources with a polychromatic spectrum, the choice of acceleration voltage and filters is crucial to obtain two spectra that are reasonably separated. Let's load some simulated spectra from a tungsten source"
   ]
  },
  {
   "cell_type": "code",
   "execution_count": 1,
   "id": "4f43f779",
   "metadata": {},
   "outputs": [],
   "source": [
    "# We can open our figures in interactive mode\n",
    "# or as images\n",
    "#%matplotlib inline\n",
    "from scipy import interpolate\n",
    "import numpy as np\n",
    "import matplotlib.pyplot as plt\n",
    "%matplotlib qt\n",
    "plt.ion()\n",
    "import xraylib\n",
    "# from pathlib import Path # Path('/etc')"
   ]
  },
  {
   "cell_type": "code",
   "execution_count": 2,
   "id": "58d52e39",
   "metadata": {},
   "outputs": [],
   "source": [
    "def load_spectrum(kVp):\n",
    "    '''This function can be used to load tungsten X-ray spectra ranging from 35kVp to 150kVp'''\n",
    "    data = np.loadtxt(base_path + 'W_'  + str(kVp) + 'kVp.txt', delimiter = ',')\n",
    "    return data\n",
    "    \n",
    "\n",
    "base_path = 'spectrum_data/'\n",
    "\n",
    "energy_80, intensity_80 = load_spectrum(80)\n",
    "energy_90, intensity_90 = load_spectrum(90)\n",
    "energy_100, intensity_100 = load_spectrum(100)\n",
    "energy_120, intensity_120 = load_spectrum(120)\n",
    "energy_140, intensity_140 = load_spectrum(140)\n",
    "\n",
    "plt.figure()\n",
    "plt.title('Tungsten anode X-ray spectra')\n",
    "plt.plot(energy_140, intensity_140, energy_80, intensity_80, energy_100, intensity_100, energy_120, intensity_120)\n",
    "plt.xlabel('Energy in keV')\n",
    "plt.ylabel('Intensity')\n",
    "plt.show()"
   ]
  },
  {
   "cell_type": "markdown",
   "id": "75038d3d",
   "metadata": {},
   "source": [
    "One way to generate two spectrally separated measurements is to introduce a filter to the source during the high energy measurement. Compare the spectra without and with filter. In our example, we will use tin (Zinn). Try at least one other filter material, as well and observe the effect. What specifications are important when choosing a filter?"
   ]
  },
  {
   "cell_type": "code",
   "execution_count": 3,
   "id": "8777e7a7",
   "metadata": {},
   "outputs": [],
   "source": [
    "def get_attenuation_coefficient(compound, density, energy):\n",
    "    energies = energy\n",
    "    mues = np.empty_like(energies)\n",
    "    for i, energy in enumerate(energies):\n",
    "        mues[i] = xraylib.CS_Total_CP(compound, energy) # cm^2/g\n",
    "    mue_rho = mues * density # 1/cm\n",
    "    return mue_rho"
   ]
  },
  {
   "cell_type": "code",
   "execution_count": 4,
   "id": "ade2f7b9",
   "metadata": {},
   "outputs": [
    {
     "name": "stdout",
     "output_type": "stream",
     "text": [
      "The two spectra cross at [  9  51 140]\n",
      "The two medical spectra have an overlap of 23.14 %.\n",
      "Mean energy \n",
      " low spectrum: 42.8 keV \n",
      " high spectrum: 57.47 keV \n",
      " high and filtered spectrum: 73.8 keV\n"
     ]
    }
   ],
   "source": [
    "# choose your acceleration voltages for the spectra\n",
    "energy_high = energy_140\n",
    "energy_low = energy_80\n",
    "intensity_high = intensity_140\n",
    "intensity_low = intensity_80\n",
    "\n",
    "# build filter\n",
    "mu_rho = get_attenuation_coefficient('Sn', 7.265, energy_high) # Tin (Zinn) with a density of 7.265 g/cm^3\n",
    "filter_thickness = 0.02 # in cm --> adapt thickness to filter material if not tin\n",
    "\n",
    "plt.figure()\n",
    "plt.title('Energy dependent attenuation of Tin')\n",
    "plt.plot(energy_140, mu_rho)\n",
    "plt.xlabel('Energy in keV')\n",
    "plt.ylabel('Linear attenuation coefficient [1/cm]')\n",
    "plt.yscale('log')\n",
    "plt.show()\n",
    "\n",
    "# we can increase the heating voltage for more electrons -> higher intensity in X-ray photons\n",
    "# now we introduce the filter\n",
    "intensity_HE_highcurrent = intensity_high * 1.5\n",
    "intensity_HE_highcurrent_filtered = intensity_HE_highcurrent * np.exp(- mu_rho * filter_thickness) # insert Beer–Lambert law\n",
    "\n",
    "#plot both spectra with and without filter and compare\n",
    "plt.figure()\n",
    "plt.title('Comparison of two spectra')\n",
    "plt.axis('off')\n",
    "\n",
    "plt.subplot(211)\n",
    "plt.plot(energy_high, intensity_HE_highcurrent, label = 'HE')\n",
    "plt.plot(energy_low, intensity_low, label = 'LE')\n",
    "plt.ylabel('Intensity')\n",
    "plt.xlabel('Energy in keV')\n",
    "plt.legend()\n",
    "plt.subplot(212)\n",
    "plt.plot(energy_high, intensity_HE_highcurrent_filtered, label = 'HE')\n",
    "plt.plot(energy_low, intensity_low, label = 'LE')\n",
    "plt.xlabel('Energy in keV')\n",
    "plt.ylabel('Intensity')\n",
    "plt.legend()\n",
    "plt.show()\n",
    "\n",
    "\n",
    "# one measure for how separated the spectra are is to calculate the overlap:\n",
    "# Spectral overlap of low and filtered high spectrum\n",
    "\n",
    "intensity_integral_LE = np.sum(intensity_low)\n",
    "intensity_integral_HE_highcurrent_filtered = np.sum(intensity_HE_highcurrent_filtered)\n",
    "\n",
    "# e.g. for 80 and 140 keV (with an 1.5 intensity factor) the spectra cross at 52.5 keV -> energy_140[51] = energy_80[51]\n",
    "# you might have to adjust the overlap position depending on your chosen energies, filters and intensities\n",
    "\n",
    "# function to find the indices where the spectra cross:\n",
    "idx = np.argwhere(np.diff(np.sign(intensity_HE_highcurrent_filtered - intensity_low))).flatten() # choose the appropriate crossing point\n",
    "print('The two spectra cross at', idx)\n",
    "overlap_integral = np.sum(intensity_HE_highcurrent_filtered[:51]) + np.sum(intensity_low[51:])\n",
    "overlap_percentage = 100 * overlap_integral / (intensity_integral_LE + intensity_integral_HE_highcurrent_filtered - overlap_integral)\n",
    "\n",
    "print('The two medical spectra have an overlap of {overlap} %.'.format(overlap=overlap_percentage.round(2)))\n",
    "\n",
    "# another interesting measure is the mean energy of the spectra:\n",
    "meanE_low = np.sum(intensity_low * energy_low) / np.sum(intensity_low)\n",
    "meanE_high = np.sum(intensity_HE_highcurrent * energy_high) / np.sum(intensity_HE_highcurrent)\n",
    "meanE_high_filtered = np.sum(intensity_HE_highcurrent_filtered * energy_high)/np.sum(intensity_HE_highcurrent_filtered)\n",
    "\n",
    "print('Mean energy \\n low spectrum: {low} keV \\n high spectrum: {high} keV \\n high and filtered spectrum: {high_fil} keV'.format\\\n",
    "      (low = meanE_low.round(2), high = meanE_high.round(2), high_fil = meanE_high_filtered.round(2)))"
   ]
  },
  {
   "cell_type": "markdown",
   "id": "d42343b4",
   "metadata": {},
   "source": [
    "### Separating the spectrum using a dual-layer detector\n",
    "\n",
    "We can also get spectrally separated measurements using a dual-layer detector"
   ]
  },
  {
   "cell_type": "markdown",
   "id": "71fd5209",
   "metadata": {},
   "source": [
    "We have now seen how filters can affect the spectral overlap and mean energy. ![dual_layer.JPG](attachment:dual_layer.JPG)  \n",
    "Let's take a look at the theoretical detector response function of such a detector. The detector response is calculated via the quantum efficiency and the energy response. The dector response for the front (f) and rear (r) layers can be described as\n",
    "\n",
    "$\n",
    "DR_f(E) = \\underbrace{(1-e^{(- \\mu_{sc}(E) \\cdot d_f)})}_{\\text{quantum efficiency}} \\\\\n",
    "DR_r(E) = \\underbrace{e^{(- \\mu_{sc}(E) \\cdot d_f)}}_{\\text{attenuation front layer}} \\cdot (1 - e^{(- \\mu_{sc}(E) \\cdot d_r)})\n",
    "$\n",
    "\n",
    "with $\\mu_{sc}$ being the attenuation coefficient of the scintillator material and $d_i$ the respective layer thickness. You can tune the separation of the spectra by adjusting the layer thickness. We will look at different responses around the layer thickness of 0.7mm.\n",
    "\n",
    "As a simplification, we will assume the quantum efficiency of the second detector layer is 1 and its thickness is enough so all remaining photons are stopped. We will also neglect the linear scaling with the energy for both layers."
   ]
  },
  {
   "cell_type": "code",
   "execution_count": 5,
   "id": "7df379e9",
   "metadata": {},
   "outputs": [],
   "source": [
    "mu_znse = get_attenuation_coefficient('ZnSe', 5.27, energy_120) # ZnSe Scintillator layer attenuation coefficient\n",
    "layer_thickness_f = 0.07 # in cm\n",
    "layer_thickness_r = 0.07 # in cm\n",
    "\n",
    "det_response_f = (1-np.exp(-layer_thickness_f*mu_znse)) #* energy_120 # scintillator attenuation in front layer -> detector response\n",
    "det_response_r = (np.exp(-layer_thickness_f*mu_znse)) #* energy_120 # rear layer -> all remaining photons get absorbed\n",
    "\n",
    "energy = energy_120 # we will focus on a typical medical spectrum with 120 kVp\n",
    "intensity = intensity_120\n",
    "plt.figure('Detector energy response function for DLCT')\n",
    "plt.plot(energy, det_response_f, 'r-', label='Front Layer')\n",
    "plt.plot(energy, det_response_r, 'b-', label='Rear Layer')\n",
    "# we will look at different front layer thickness designs\n",
    "layer_thickness_var = np.arange(0.07-0.03,0.07+0.03+0.01,0.02)\n",
    "for thick in layer_thickness_var:\n",
    "    det_res_f = (1-np.exp(-thick*mu_znse))\n",
    "    det_res_r = (np.exp(-thick*mu_znse))\n",
    "    plt.plot(energy, det_res_f, 'r--')\n",
    "    plt.plot(energy, det_res_r, 'b--')\n",
    "plt.xlabel('Energy [keV]')\n",
    "plt.ylabel('Detector energy response')# (0.4, 0.6, 0.7, 0.8, 1.0) mm ZnSe')\n",
    "plt.legend()\n",
    "plt.show(block=False)"
   ]
  },
  {
   "cell_type": "markdown",
   "id": "73114dbb",
   "metadata": {},
   "source": [
    "Next, we see how big the spectral overlap is for a design using a 0.7mm thick front layer. As seen before, check where the spectra cross and calculate the overlap from there. Try different layer thicknesses and observe, how the overlap changes.\n",
    "Next, we see how big the spectral overlap is for a design using a 0.7mm thick front layer. As seen before, check where the spectra cross and calculate the overlap from there. Try out different layer thicknesses to see if you can improve the overlap."
   ]
  },
  {
   "cell_type": "code",
   "execution_count": null,
   "id": "91f42125",
   "metadata": {},
   "outputs": [
    {
     "name": "stdout",
     "output_type": "stream",
     "text": [
      "The two spectra cross at [  9  61 120]\n",
      "The spectral overlap in this DL design is 30.58 %.\n"
     ]
    }
   ],
   "source": [
    "plt.figure('Effective spectra in energy discriminating detector')\n",
    "plt.plot(energy,intensity*det_response_f,'r-',label='Front Layer')\n",
    "plt.plot(energy,intensity*det_response_r,'b-',label='Rear Layer')\n",
    "plt.xlabel('Energy [keV]')\n",
    "plt.ylabel('Detector energy response x Intensity')\n",
    "plt.legend()\n",
    "plt.show(block=False)\n",
    "\n",
    "# Spectral overlap\n",
    "intensity_integral_f = np.sum(intensity*det_response_f)\n",
    "intensity_integral_r = np.sum(intensity*det_response_r)\n",
    "\n",
    "idx = np.argwhere(np.diff(np.sign(intensity*(det_response_f - det_response_r)))).flatten() # choose the appropriate crossing point\n",
    "print('The two spectra cross at', idx)\n",
    "# the spectra cross at X -> energy[X]\n",
    "\n",
    "overlap_integral = np.sum((intensity*det_response_r)[:61]) + np.sum((intensity*det_response_f)[61:])\n",
    "overlap_percentage = 100 * overlap_integral / (intensity_integral_f + intensity_integral_r - overlap_integral)\n",
    "\n",
    "print('The spectral overlap in this DL design is {overlap} %.'.format(overlap=overlap_percentage.round(2)))"
   ]
  },
  {
   "cell_type": "markdown",
   "id": "677c8a4e",
   "metadata": {},
   "source": [
    "## Part 2: Simulating a phantom and performing a decomposition\n",
    "\n",
    "### Step 1: Build a phantom \n",
    "Build a phantom filled with different attenuation coefficients, e.g. for soft tissue, bone and iodine. You may, for example, reuse the phantom you built in exercise 03."
   ]
  },
  {
   "cell_type": "code",
   "execution_count": 8,
   "id": "12aef162",
   "metadata": {},
   "outputs": [],
   "source": [
    "# use xraylib to get the material data for the phantom\n",
    "energies = np.arange(20., 140., 10)\n",
    "soft = get_attenuation_coefficient('Tissue, Soft (ICRP)', 0.92, energy = energies)\n",
    "water = get_attenuation_coefficient('Water, Liquid', 1.0, energy = energies )\n",
    "iodine = get_attenuation_coefficient('I', 4.93, energy = energies)\n",
    "contrast = 0.98 * water + 0.02*iodine\n",
    "bone = get_attenuation_coefficient('Bone, Compact (ICRU)', 1.92, energy=energies)\n",
    "\n",
    "# create phantom with bone, tissue and air components\n",
    "phantom_LE = np.load('shepp_logan.npy')\n",
    "phantom_HE = np.load('shepp_logan.npy')\n",
    "\n",
    "# use the known attenuation values to replace the original values in the modified Shepp-Logan phantom\n",
    "phantom_LE[phantom_LE == 1.0] = bone[np.where(energies == 60.)]\n",
    "phantom_LE[phantom_LE == 0.19999999] = soft[np.where(energies == 60.)]\n",
    "phantom_LE[phantom_LE == -1.4901161e-08] = bone[np.where(energies == 60.)]\n",
    "phantom_LE[phantom_LE == 0.29999998] = bone[np.where(energies == 60.)]\n",
    "phantom_LE[phantom_LE == 0.0] = 0.0001\n",
    "\n",
    "phantom_HE[phantom_HE == 1.0] = bone[np.where(energies == 120.)]\n",
    "phantom_HE[phantom_HE == 0.19999999] = soft[np.where(energies == 120.)]\n",
    "phantom_HE[phantom_HE == -1.4901161e-08] = bone[np.where(energies == 120.)]\n",
    "phantom_HE[phantom_HE == 0.29999998] = bone[np.where(energies == 120.)]\n",
    "phantom_HE[phantom_HE == 0.0] = 0.0001\n",
    "\n",
    "# choose a slice to decompose, e.g. the middle slice\n",
    "slice_LE = phantom_LE[:,:,100].copy()\n",
    "slice_HE = phantom_HE[:,:,100].copy()"
   ]
  },
  {
   "cell_type": "code",
   "execution_count": 9,
   "id": "eed14b5a",
   "metadata": {},
   "outputs": [],
   "source": [
    "# Show the two slices\n",
    "fig, axs = plt.subplots(1, 2)\n",
    "pcm1 = axs[0].imshow(slice_LE, cmap='gray', vmin=0.2)\n",
    "fig.colorbar(pcm1, ax=axs[0], fraction=0.046, pad=0.04)\n",
    "axs[0].axis('off')\n",
    "axs[0].title.set_text('Low Energy slice phantom')\n",
    "pcm2 = axs[1].imshow(slice_HE, cmap='gray', vmin=0.2)\n",
    "fig.colorbar(pcm2, ax=axs[1], fraction=0.046, pad=0.04)\n",
    "axs[1].axis('off')\n",
    "axs[1].title.set_text('High Energy slice phantom')\n",
    "fig.tight_layout()\n",
    "plt.show()\n"
   ]
  },
  {
   "cell_type": "markdown",
   "id": "2e57979c",
   "metadata": {},
   "source": [
    "### Step 2: Build coefficient matrix\n",
    "In the beginning of this exercise, we showed a system of equations used for image-based decomposition. We will build the decomposition matrix in the next step."
   ]
  },
  {
   "cell_type": "code",
   "execution_count": 11,
   "id": "2cd11d63",
   "metadata": {},
   "outputs": [],
   "source": [
    "# build the coefficient matrix for decomposition\n",
    "# e.g we will decompose into bone and soft tissue\n",
    "mu_1_LE = bone[np.where(energies == 60.)][0] # bone\n",
    "mu_1_HE = bone[np.where(energies == 120.)][0]\n",
    "\n",
    "\n",
    "mu_2_LE = soft[np.where(energies == 60.)][0] # Soft tissue\n",
    "mu_2_HE = soft[np.where(energies == 120.)][0]\n",
    "\n",
    "# As we are performing a two material decomposition, the coeff matrix is 2x2\n",
    "coeff = np.array([[mu_1_LE, mu_2_LE],[mu_1_HE, mu_2_HE]])"
   ]
  },
  {
   "cell_type": "markdown",
   "id": "e6157e14",
   "metadata": {},
   "source": [
    "### Step 3: Perform decomposition\n",
    "We've set up a linear system of equations (LSE) in the introduction. You need to solve this LSE for each pixel using the measurements we took and the coefficient matrix we built. You can do so by iterating over every pixel, or make use of numpy. Iterating is a lot slower, so we will use the numpy way.\n",
    "For this, we need to bring our data in the right shape: one array, where the last axis is the low or high energy pixel value."
   ]
  },
  {
   "cell_type": "code",
   "execution_count": 12,
   "id": "b89dec7f",
   "metadata": {},
   "outputs": [
    {
     "name": "stdout",
     "output_type": "stream",
     "text": [
      "(200, 200, 200) (200, 200, 2)\n"
     ]
    }
   ],
   "source": [
    "measurements = np.zeros((slice_LE.shape[0], slice_LE.shape[1],2)) # build an empty array in the right shape\n",
    "measurements[:,:, 0] = slice_LE # assign the images to the last axis\n",
    "measurements[:,:, 1] = slice_HE\n",
    "print(phantom_LE.shape, measurements.shape)\n",
    "\n",
    "\n",
    "# This is the step where all the numpy magic happens. \n",
    "# If you want to understand the notation, please look at the numpy documentation and make yourself familiar with its array broadcasting rules.\n",
    "decomp=np.linalg.solve(coeff[None, None], measurements)\n",
    "\n",
    "# its easier to look at the images individually.\n",
    "decomp_mat_1 = decomp[:,:,0]\n",
    "decomp_mat_2 = decomp[:,:,1]\n",
    "\n",
    "# checking out the decomposition images\n",
    "#%matplotlib notebook \n",
    "fig, axs = plt.subplots(1, 2)\n",
    "pcm1 = axs[0].imshow(decomp_mat_1, cmap='gray', vmin=0, vmax=1.2)\n",
    "fig.colorbar(pcm1, ax=axs[0], fraction=0.046, pad=0.04)\n",
    "axs[0].axis('off')\n",
    "axs[0].title.set_text('Material Image 1')\n",
    "pcm2 = axs[1].imshow(decomp_mat_2, cmap='gray', vmin=0, vmax=1.5)\n",
    "fig.colorbar(pcm2, ax=axs[1], fraction=0.046, pad=0.04)\n",
    "axs[1].axis('off')\n",
    "axs[1].title.set_text('Material Image 2')\n",
    "fig.tight_layout()\n",
    "plt.show()"
   ]
  },
  {
   "cell_type": "markdown",
   "id": "7035b1b7",
   "metadata": {},
   "source": [
    "## Part 3: Dual-energy decomposition on microCT data\n",
    "\n",
    "In this part, we provide you with some exemplary data from a commercial microCT, to perform material decomposition with a conventional flatpanel detector and two measurements at higher and lower energies.\n",
    "The sample is a microCT hydroxyapatite (Ca5P3O13H) phantom used to calibrate small animal microCTs. There are fixed HA concentrations in the form of rods: 1200, 800, 200, 50, 0 [mg HA/cm³]. The surrounding material is resin, which we will approximate as water.\n",
    "First, let's get a feeling for the absorption coefficients of these basis materials. We also plot the attenuation of iodine, since it is such a common contrast agent."
   ]
  },
  {
   "cell_type": "code",
   "execution_count": 13,
   "id": "ce3511cf",
   "metadata": {},
   "outputs": [],
   "source": [
    "import numpy as np\n",
    "import matplotlib.pyplot as plt\n",
    "from PIL import Image\n",
    "import xraylib\n",
    "#import roipoly\n",
    "#%matplotlib notebook \n",
    "#plt.ion()"
   ]
  },
  {
   "cell_type": "code",
   "execution_count": 14,
   "id": "f6cd463b",
   "metadata": {},
   "outputs": [],
   "source": [
    "# choose one of the spectra, e.g. 140 keV\n",
    "energy = energy_140\n",
    "mu_rho_water = get_attenuation_coefficient('H2O', 1.0, energy) # linear attenuation coefficient\n",
    "mu_water = mu_rho_water/1.0 # mass attenuation coefficient (mu_rho/rho)\n",
    "mu_rho_HA = get_attenuation_coefficient('Ca5P3O13H', 3.14, energy) # Hydroxyapatite with a bone mineral density of 3.14 g/cm^3\n",
    "mu_HA = mu_rho_HA/3.14\n",
    "mu_rho_I = get_attenuation_coefficient('I', 4.94, energy) # Iodine contrast\n",
    "mu_I = mu_rho_I/4.94\n",
    "\n",
    "plt.figure()\n",
    "plt.title('Attenuation of water, bone (HA) and iodine')\n",
    "plt.plot(energy, mu_rho_water, label = 'Water')\n",
    "plt.plot(energy, mu_rho_HA, label = 'Bone')\n",
    "plt.plot(energy, mu_rho_I, label = 'Iodine')\n",
    "plt.xlabel('Energy in keV')\n",
    "plt.ylabel('Linear attenuation coefficient [1/cm]')\n",
    "plt.yscale('log')\n",
    "plt.legend()\n",
    "plt.show()"
   ]
  },
  {
   "cell_type": "markdown",
   "id": "7c7f7bf7",
   "metadata": {},
   "source": [
    "### Step 1: Loading the images and correcting them.\n",
    "\n",
    "The reconstructed images are saved as 16 bit tif files. This means they contain integer values between 0 and 65535. \n",
    "During reconstruction the attenuation coefficient mu is reconstructed and then mapped to the tif values. \n",
    "Usually, one can find the minimum and maximum value in the accompanying log files as 'min = ' and 'max = '. Since you haven't performed the measurements yourselves, we provide this conversion.\n",
    "\n",
    "In order to load the tif file we use pillow (or PIL Python Image Library). Directly convert them to a numpy array.\n",
    "LE is labeling the low energetic spectrum image, HE the high energetic spectrum image.\n"
   ]
  },
  {
   "cell_type": "code",
   "execution_count": 15,
   "id": "5bdc96b7",
   "metadata": {},
   "outputs": [],
   "source": [
    "LE=np.array(Image.open('./MicroCT_data/slice_0420low.tif'))\n",
    "HE=np.array(Image.open('./MicroCT_data/slice_0420high.tif'))\n",
    "\n",
    "# Enter the values from the _reco.log files here\n",
    "LE_min = -0.8815\n",
    "LE_max = 4.219888\n",
    "\n",
    "HE_min = -0.3876\n",
    "HE_max = 0.63236\n",
    "\n",
    "\n",
    "def tif_to_mu(img, w_min, w_max):\n",
    "    '''\n",
    "    Just a small function to recover the mu values in 1/cm.\n",
    "    The value 2 pi is a necessary, as the reconstruction program omitts this in its filter functions.\n",
    "    They claim to do this for compatibility reasons\n",
    "    '''\n",
    "    a=(w_max-w_min)/65535.\n",
    "    return (img*a+w_min)\n",
    "\n",
    "# convert the tif scaled images into mu scaled images\n",
    "LE_mu=tif_to_mu(LE, LE_min, LE_max)\n",
    "HE_mu=tif_to_mu(HE, HE_min, HE_max)"
   ]
  },
  {
   "cell_type": "code",
   "execution_count": 16,
   "id": "522f68b8",
   "metadata": {},
   "outputs": [],
   "source": [
    "#%matplotlib inline\n",
    "fig, axs = plt.subplots(1, 2)\n",
    "pcm1 = axs[0].imshow(LE_mu, cmap='gray', vmin=0.2)\n",
    "fig.colorbar(pcm1, ax=axs[0], fraction=0.046, pad=0.04)\n",
    "axs[0].axis('off')\n",
    "axs[0].title.set_text('Low Energy')\n",
    "pcm2 = axs[1].imshow(HE_mu, cmap='gray', vmin=0)\n",
    "fig.colorbar(pcm2, ax=axs[1], fraction=0.046, pad=0.04)\n",
    "axs[1].axis('off')\n",
    "axs[1].title.set_text('High Energy')\n",
    "fig.tight_layout()\n",
    "plt.show()"
   ]
  },
  {
   "cell_type": "markdown",
   "id": "a1db0911",
   "metadata": {},
   "source": [
    "### Step 2: Build the coefficient matrix for the material decomposition\n",
    "\n",
    "When we built the coefficient matrix for our phantom, we assumed monochromatic radiation and used the exact theoretical attenuation coefficients. Now, the situation is different: Our spectrum is polychromatic.\n",
    "\n",
    "You may have noticed that we didn't provide an acceleration voltage or energy range. However, to build our coefficient matrix (see equation at the beginning of the exercise), we need to know the theoretical attenuation coefficients of our basis materials. For this, we need to know at which energy to look. Therefore, we estimate the mean energy of our spectrum using our measurements. For this we will:\n",
    "1. Choose regions of interest containing only the basis materials we are interested in (here HA and water)\n",
    "2. Calculate the mean attenuation coefficient in this ROI\n",
    "3. Find where the mean attenuation coefficient of the image intersects with the theoretical attenuation coefficient --> mean energy of the spectrum\n",
    "\n",
    "Here we need the mass absorption coefficients at the low and the high energy value, as well as the mass density you can use the xcom database from the NIST to look this up. https://www.nist.gov/pml/x-ray-mass-attenuation-coefficients or https://physics.nist.gov/cgi-bin/Xcom/xcom2 ."
   ]
  },
  {
   "cell_type": "code",
   "execution_count": 17,
   "id": "1974e272",
   "metadata": {},
   "outputs": [],
   "source": [
    "# Choose a region of interest (ROI) that only contains resin (water)\n",
    "# then calculate the mean attenuation coefficient in this ROI\n",
    "water_le = np.mean(LE_mu[230:320,460:580])\n",
    "water_he = np.mean(HE_mu[230:320,460:580])\n",
    "# now choose a region that contains HA (e.g. the highest absorbing one)\n",
    "ha1200_le = np.mean(LE_mu[448:494,636:684])\n",
    "ha1200_he = np.mean(HE_mu[448:494,636:684])\n",
    "\n",
    "energy_bins = np.linspace(20,140,121) # a range of possible energies\n",
    "att_array = np.zeros((len(energy_bins),2))\n",
    "\n",
    "# get the theoretical linear attenuation coefficients \n",
    "for i, energy in enumerate(energy_bins):\n",
    "    att_array[i,0] = xraylib.CS_Total_CP('Ca5P3O13H', int(energy))* 1.2 # multiplication with density since the function itself returns the mass absorption coeff., in the highest absorbing rod we have 1200mg/cm³ density\n",
    "    att_array[i,1] = xraylib.CS_Total_CP('H2O', int(energy))*1.00\n",
    "    \n",
    "    \n",
    "# now plot one of the images and show your ROI\n",
    "# also plot the theoretical attenuation coefficient of hydroxyapatite together with the mean values you calculated --> where they intersect, you get your mean energy \n",
    "from matplotlib.patches import Rectangle\n",
    "ROI_w = Rectangle((460, 320), 580-460, -(320-230), fill = False, linewidth = 2., edgecolor = 'r') # rectangle patch for water ROI\n",
    "ROI_ha = Rectangle((636, 494), 684-636, -(494-448), fill = False, linewidth = 2., edgecolor = 'r') # rectangle patch for HA ROI\n",
    "fig, ax = plt.subplots(1,2)\n",
    "plt.suptitle('Energy Dependent Attenuation Coefficients')\n",
    "im = ax[0].imshow(LE_mu, cmap = 'gray', vmin = 0.2)\n",
    "ax[0].title.set_text('ROI in LE image')\n",
    "ax[0].add_patch(ROI_ha)\n",
    "'''\n",
    "ax[1] = plt.plot(energy_bins, att_array[:,1], label='Water')\n",
    "ax[1] = plt.plot([energy_bins[0],energy_bins[-1]], [water_le, water_le], label='Water ROI LE')\n",
    "ax[1] = plt.plot([energy_bins[0],energy_bins[-1]], [water_he, water_he], label='Water ROI HE')\n",
    "'''\n",
    "# HA 1200 mg/ml\n",
    "ax[1] = plt.plot(energy_bins, att_array[:,0], label='HA1200') # we add water because it is not pure HA that we measure\n",
    "ax[1] = plt.plot([energy_bins[0],energy_bins[-1]], [ha1200_le, ha1200_le], label='Rod LE')\n",
    "ax[1] = plt.plot([energy_bins[0],energy_bins[-1]], [ha1200_he, ha1200_he], label='Rod HE')\n",
    "\n",
    "plt.yscale('log')\n",
    "plt.xlabel('Energy [keV]')\n",
    "plt.ylabel('Attenuation coefficient [1/cm]')\n",
    "plt.legend()\n",
    "plt.tight_layout()\n",
    "plt.show()\n",
    "\n",
    "# find the intersection of the mean values with the theoretical curve and estimate the energy\n",
    "# mean low energy should be:\n",
    "mean_le_estimate = 26.7 # keV # 27.7 for HA1200 Rod\n",
    "mean_he_estimate = 57.5"
   ]
  },
  {
   "cell_type": "markdown",
   "id": "085dc00d",
   "metadata": {},
   "source": [
    "In a perfect world, the measured linear attenuation coefficients should intersect with the theoretical curve. If, for example, the HE value does not intersect, we can use our source spectrum to calculate a theoretical mean energy for the linear attenuation coefficient.\n",
    "The high energy measurement was taken at 140keV with a tin filter (0.02cm thickness)."
   ]
  },
  {
   "cell_type": "code",
   "execution_count": 88,
   "id": "6b3a4712",
   "metadata": {},
   "outputs": [],
   "source": [
    "#calculate the mean energy\n",
    "# mean high energy should be:\n",
    "#mean_he_estimate = 73.8 # keV # 75.5 for HA1200 Rod"
   ]
  },
  {
   "cell_type": "code",
   "execution_count": 26,
   "id": "33ee7c1a",
   "metadata": {},
   "outputs": [
    {
     "name": "stdout",
     "output_type": "stream",
     "text": [
      "(2, 2)\n"
     ]
    }
   ],
   "source": [
    "# next we build our coefficient matrix\n",
    "# get the theoretical attenuation values necessary from NIST / xraylib\n",
    "# these are now mass attenuation coefficients!\n",
    "mu_1_LE = xraylib.CS_Total_CP('Ca5P3O13H', mean_le_estimate) * 1.2 # HA with density 1.2g/cm^3\n",
    "mu_1_HE = xraylib.CS_Total_CP('Ca5P3O13H', mean_he_estimate) * 1.2\n",
    "\n",
    "\n",
    "mu_2_LE = xraylib.CS_Total_CP('H2O', mean_le_estimate) # Water\n",
    "mu_2_HE = xraylib.CS_Total_CP('H2O', mean_he_estimate)\n",
    "\n",
    "# As we are performing a two material decomposition, the coeff matrix is 2x2\n",
    "coeff = np.array([[mu_1_LE, mu_2_LE],[mu_1_HE, mu_2_HE]])\n",
    "print(coeff.shape)"
   ]
  },
  {
   "cell_type": "markdown",
   "id": "bf73599e-36aa-4e71-9d5c-48b64e954cf5",
   "metadata": {},
   "source": [
    "Concerning choosing the density for the attenuation coefficients in the coefficient matrix:\n",
    "The volume fractions you reconstruct in the decomposition must be viewed as \"this pixel behaves as if it contained [volume fraction] of material X that has the density $\\rho$.\"."
   ]
  },
  {
   "cell_type": "markdown",
   "id": "f2f8dab0",
   "metadata": {},
   "source": [
    "### Step 3: Perform decomposition\n",
    "Perform the decomposition the same way you performed it for the simulated phantom. Take a look at the resulting images. Are they plausible?"
   ]
  },
  {
   "cell_type": "code",
   "execution_count": 27,
   "id": "10bca38c",
   "metadata": {},
   "outputs": [
    {
     "name": "stdout",
     "output_type": "stream",
     "text": [
      "(973, 973, 2) (973, 973)\n"
     ]
    }
   ],
   "source": [
    "measurements = np.zeros((LE.shape[0], LE.shape[1],2)) # build an empty array in the right shape\n",
    "measurements[:,:, 0] = LE_mu # assign the images to the last axis\n",
    "measurements[:,:, 1] = HE_mu\n",
    "print(measurements.shape, LE_mu.shape)\n",
    "\n",
    "# This is the step where all the numpy magic happens. \n",
    "# If you want to understand the notation, please look at the numpy documentation and make yourself familiar with its array broadcasting rules.\n",
    "decomp=np.linalg.solve(coeff[None, None], measurements)\n",
    "\n",
    "# its easier to look at the images individually.\n",
    "decomp_mat_1 = decomp[:,:,0]\n",
    "decomp_mat_2 = decomp[:,:,1]\n",
    "\n",
    "# checking out the decomposition images\n",
    "#%matplotlib notebook \n",
    "fig, axs = plt.subplots(1, 2)\n",
    "pcm1 = axs[0].imshow(decomp_mat_1, cmap='gray', vmin=0, vmax=1.2)\n",
    "fig.colorbar(pcm1, ax=axs[0], fraction=0.046, pad=0.04)\n",
    "axs[0].axis('off')\n",
    "axs[0].title.set_text('Material Image 1')\n",
    "pcm2 = axs[1].imshow(decomp_mat_2, cmap='gray', vmin=0, vmax=1.5)\n",
    "fig.colorbar(pcm2, ax=axs[1], fraction=0.046, pad=0.04)\n",
    "axs[1].axis('off')\n",
    "axs[1].title.set_text('Material Image 2')\n",
    "fig.tight_layout()\n",
    "plt.show()\n"
   ]
  },
  {
   "cell_type": "markdown",
   "id": "ce965c5a",
   "metadata": {},
   "source": [
    "You can either use the surrounding resin to estimate the mean energy or the HA rod. "
   ]
  },
  {
   "cell_type": "markdown",
   "id": "8e22040b",
   "metadata": {},
   "source": [
    "Concerning choosing the density for the attenuation coefficients in the coefficient matrix:\n",
    "The volume fractions you reconstruct in the decomposition must be viewed as \"this pixel behaves as if it contained [volume fraction] of material X that has the density $\\rho$.\".\n",
    "\n"
   ]
  },
  {
   "cell_type": "markdown",
   "id": "f3ff4e9e",
   "metadata": {},
   "source": []
  }
 ],
 "metadata": {
  "kernelspec": {
   "display_name": "Python 3 (ipykernel)",
   "language": "python",
   "name": "python3"
  },
  "language_info": {
   "codemirror_mode": {
    "name": "ipython",
    "version": 3
   },
   "file_extension": ".py",
   "mimetype": "text/x-python",
   "name": "python",
   "nbconvert_exporter": "python",
   "pygments_lexer": "ipython3",
   "version": "3.12.3"
  }
 },
 "nbformat": 4,
 "nbformat_minor": 5
}
